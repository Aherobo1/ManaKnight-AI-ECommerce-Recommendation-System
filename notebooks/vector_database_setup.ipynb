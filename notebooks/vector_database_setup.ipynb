{
 "cells": [
  {
   "cell_type": "markdown",
   "metadata": {},
   "source": [
    "# 🚀 Vector Database Setup - Mana Knight Digital\n",
    "\n",
    "This notebook demonstrates the setup and configuration of the vector database for product similarity search.\n",
    "\n",
    "## Features Covered:\n",
    "- Pinecone vector database initialization\n",
    "- Product vectorization using TF-IDF\n",
    "- Vector storage and retrieval\n",
    "- Similarity search implementation\n",
    "- Local fallback configuration"
   ]
  },
  {
   "cell_type": "code",
   "execution_count": null,
   "metadata": {},
   "outputs": [],
   "source": [
    "# Import required libraries\n",
    "import sys\n",
    "import os\n",
    "sys.path.append('..')\n",
    "\n",
    "import numpy as np\n",
    "import pandas as pd\n",
    "from sklearn.feature_extraction.text import TfidfVectorizer\n",
    "from sklearn.metrics.pairwise import cosine_similarity\n",
    "import json\n",
    "from datetime import datetime\n",
    "\n",
    "# Import our services\n",
    "from services.vector_db import VectorDatabase\n",
    "from services.database import DatabaseService\n",
    "from services.recommendation import RecommendationEngine\n",
    "\n",
    "print(\"✅ All imports successful!\")"
   ]
  },
  {
   "cell_type": "markdown",
   "metadata": {},
   "source": [
    "## 1. Initialize Vector Database Service"
   ]
  },
  {
   "cell_type": "code",
   "execution_count": null,
   "metadata": {},
   "outputs": [],
   "source": [
    "# Initialize vector database (will use local fallback if Pinecone not configured)\n",
    "vector_db = VectorDatabase()\n",
    "\n",
    "# Check connection status\n",
    "stats = vector_db.get_index_stats()\n",
    "print(f\"Vector Database Stats: {stats}\")\n",
    "\n",
    "# Initialize database service\n",
    "db_service = DatabaseService()\n",
    "print(\"✅ Services initialized successfully!\")"
   ]
  },
  {
   "cell_type": "markdown",
   "metadata": {},
   "source": [
    "## 2. Load Sample Product Data"
   ]
  },
  {
   "cell_type": "code",
   "execution_count": null,
   "metadata": {},
   "outputs": [],
   "source": [
    "# Sample product data for demonstration\n",
    "sample_products = [\n",
    "    {\n",
    "        \"id\": 1,\n",
    "        \"stock_code\": \"LAPTOP001\",\n",
    "        \"description\": \"High Performance Gaming Laptop with RTX Graphics\",\n",
    "        \"unit_price\": 1299.99,\n",
    "        \"country\": \"USA\"\n",
    "    },\n",
    "    {\n",
    "        \"id\": 2,\n",
    "        \"stock_code\": \"PHONE001\",\n",
    "        \"description\": \"Smartphone with Advanced Camera and 5G Connectivity\",\n",
    "        \"unit_price\": 899.99,\n",
    "        \"country\": \"South Korea\"\n",
    "    },\n",
    "    {\n",
    "        \"id\": 3,\n",
    "        \"stock_code\": \"HEADPHONE001\",\n",
    "        \"description\": \"Wireless Noise Cancelling Headphones Premium Audio\",\n",
    "        \"unit_price\": 299.99,\n",
    "        \"country\": \"Germany\"\n",
    "    },\n",
    "    {\n",
    "        \"id\": 4,\n",
    "        \"stock_code\": \"WATCH001\",\n",
    "        \"description\": \"Smartwatch with Fitness Tracking and Health Monitoring\",\n",
    "        \"unit_price\": 399.99,\n",
    "        \"country\": \"USA\"\n",
    "    },\n",
    "    {\n",
    "        \"id\": 5,\n",
    "        \"stock_code\": \"TABLET001\",\n",
    "        \"description\": \"Professional Tablet for Digital Art and Design Work\",\n",
    "        \"unit_price\": 699.99,\n",
    "        \"country\": \"Japan\"\n",
    "    }\n",
    "]\n",
    "\n",
    "print(f\"Loaded {len(sample_products)} sample products\")\n",
    "for product in sample_products:\n",
    "    print(f\"- {product['stock_code']}: {product['description'][:50]}...\")"
   ]
  },
  {
   "cell_type": "markdown",
   "metadata": {},
   "source": [
    "## 3. Create Product Vectors using TF-IDF"
   ]
  },
  {
   "cell_type": "code",
   "execution_count": null,
   "metadata": {},
   "outputs": [],
   "source": [
    "# Extract product descriptions for vectorization\n",
    "descriptions = [product['description'] for product in sample_products]\n",
    "\n",
    "# Initialize TF-IDF vectorizer\n",
    "vectorizer = TfidfVectorizer(\n",
    "    max_features=512,  # Limit to 512 dimensions\n",
    "    stop_words='english',\n",
    "    ngram_range=(1, 2),  # Include unigrams and bigrams\n",
    "    lowercase=True\n",
    ")\n",
    "\n",
    "# Fit and transform descriptions\n",
    "tfidf_matrix = vectorizer.fit_transform(descriptions)\n",
    "print(f\"TF-IDF Matrix Shape: {tfidf_matrix.shape}\")\n",
    "print(f\"Vector Dimensions: {tfidf_matrix.shape[1]}\")\n",
    "\n",
    "# Convert to dense arrays for storage\n",
    "product_vectors = tfidf_matrix.toarray()\n",
    "print(f\"Product Vectors Shape: {product_vectors.shape}\")"
   ]
  },
  {
   "cell_type": "markdown",
   "metadata": {},
   "source": [
    "## 4. Store Vectors in Vector Database"
   ]
  },
  {
   "cell_type": "code",
   "execution_count": null,
   "metadata": {},
   "outputs": [],
   "source": [
    "# Prepare vectors for storage\n",
    "vectors_to_store = []\n",
    "\n",
    "for i, product in enumerate(sample_products):\n",
    "    vector_id = f\"product_{product['id']}\"\n",
    "    vector = product_vectors[i].tolist()\n",
    "    metadata = {\n",
    "        'stock_code': product['stock_code'],\n",
    "        'description': product['description'],\n",
    "        'unit_price': product['unit_price'],\n",
    "        'country': product['country']\n",
    "    }\n",
    "    \n",
    "    vectors_to_store.append((vector_id, vector, metadata))\n",
    "\n",
    "# Store vectors in database\n",
    "success = vector_db.upsert_vectors(vectors_to_store)\n",
    "print(f\"Vector storage successful: {success}\")\n",
    "\n",
    "# Verify storage\n",
    "updated_stats = vector_db.get_index_stats()\n",
    "print(f\"Updated Vector Database Stats: {updated_stats}\")"
   ]
  },
  {
   "cell_type": "markdown",
   "metadata": {},
   "source": [
    "## 5. Test Similarity Search"
   ]
  },
  {
   "cell_type": "code",
   "execution_count": null,
   "metadata": {},
   "outputs": [],
   "source": [
    "# Test query\n",
    "test_query = \"gaming laptop with graphics card\"\n",
    "print(f\"Test Query: '{test_query}'\")\n",
    "\n",
    "# Vectorize the query\n",
    "query_vector = vectorizer.transform([test_query]).toarray()[0]\n",
    "print(f\"Query Vector Shape: {query_vector.shape}\")\n",
    "\n",
    "# Search for similar products\n",
    "similar_products = vector_db.query_vectors(\n",
    "    query_vector=query_vector.tolist(),\n",
    "    top_k=3\n",
    ")\n",
    "\n",
    "print(f\"\\nFound {len(similar_products)} similar products:\")\n",
    "for i, result in enumerate(similar_products, 1):\n",
    "    print(f\"{i}. {result['metadata']['stock_code']}: {result['metadata']['description']}\")\n",
    "    print(f\"   Similarity Score: {result['score']:.4f}\")\n",
    "    print(f\"   Price: ${result['metadata']['unit_price']}\")\n",
    "    print()"
   ]
  },
  {
   "cell_type": "markdown",
   "metadata": {},
   "source": [
    "## 6. Test Recommendation Engine Integration"
   ]
  },
  {
   "cell_type": "code",
   "execution_count": null,
   "metadata": {},
   "outputs": [],
   "source": [
    "# Initialize recommendation engine\n",
    "rec_engine = RecommendationEngine()\n",
    "\n",
    "# Test different queries\n",
    "test_queries = [\n",
    "    \"wireless headphones for music\",\n",
    "    \"smartwatch for fitness tracking\",\n",
    "    \"tablet for digital art\",\n",
    "    \"smartphone with good camera\"\n",
    "]\n",
    "\n",
    "print(\"Testing Recommendation Engine:\")\n",
    "print(\"=\" * 50)\n",
    "\n",
    "for query in test_queries:\n",
    "    print(f\"\\nQuery: '{query}'\")\n",
    "    try:\n",
    "        result = rec_engine.get_recommendations(query, top_k=2)\n",
    "        recommendations = result.get('products', [])\n",
    "        response = result.get('response', 'No response generated')\n",
    "        \n",
    "        print(f\"Response: {response}\")\n",
    "        print(f\"Recommendations ({len(recommendations)}):\")\n",
    "        \n",
    "        for i, product in enumerate(recommendations, 1):\n",
    "            print(f\"  {i}. {product.get('stock_code', 'N/A')}: {product.get('description', 'N/A')[:60]}...\")\n",
    "            print(f\"     Similarity: {product.get('similarity_score', 0):.3f}\")\n",
    "    except Exception as e:\n",
    "        print(f\"Error: {e}\")\n",
    "    \n",
    "    print(\"-\" * 30)"
   ]
  },
  {
   "cell_type": "markdown",
   "metadata": {},
   "source": [
    "## 7. Performance Analysis"
   ]
  },
  {
   "cell_type": "code",
   "execution_count": null,
   "metadata": {},
   "outputs": [],
   "source": [
    "import time\n",
    "\n",
    "# Measure query performance\n",
    "def measure_query_performance(query, num_iterations=10):\n",
    "    times = []\n",
    "    \n",
    "    for _ in range(num_iterations):\n",
    "        start_time = time.time()\n",
    "        \n",
    "        # Vectorize query\n",
    "        query_vector = vectorizer.transform([query]).toarray()[0]\n",
    "        \n",
    "        # Search\n",
    "        results = vector_db.query_vectors(query_vector.tolist(), top_k=5)\n",
    "        \n",
    "        end_time = time.time()\n",
    "        times.append(end_time - start_time)\n",
    "    \n",
    "    return {\n",
    "        'avg_time': np.mean(times),\n",
    "        'min_time': np.min(times),\n",
    "        'max_time': np.max(times),\n",
    "        'std_time': np.std(times)\n",
    "    }\n",
    "\n",
    "# Test performance\n",
    "test_query = \"laptop computer for programming\"\n",
    "perf_stats = measure_query_performance(test_query)\n",
    "\n",
    "print(\"Query Performance Analysis:\")\n",
    "print(f\"Query: '{test_query}'\")\n",
    "print(f\"Average Time: {perf_stats['avg_time']*1000:.2f} ms\")\n",
    "print(f\"Min Time: {perf_stats['min_time']*1000:.2f} ms\")\n",
    "print(f\"Max Time: {perf_stats['max_time']*1000:.2f} ms\")\n",
    "print(f\"Std Deviation: {perf_stats['std_time']*1000:.2f} ms\")"
   ]
  },
  {
   "cell_type": "markdown",
   "metadata": {},
   "source": [
    "## 8. Save Configuration and Vectorizer"
   ]
  },
  {
   "cell_type": "code",
   "execution_count": null,
   "metadata": {},
   "outputs": [],
   "source": [
    "import pickle\n",
    "\n",
    "# Save vectorizer for future use\n",
    "os.makedirs('../models', exist_ok=True)\n",
    "\n",
    "with open('../models/tfidf_vectorizer.pkl', 'wb') as f:\n",
    "    pickle.dump(vectorizer, f)\n",
    "\n",
    "# Save product vectors\n",
    "with open('../models/product_vectors.pkl', 'wb') as f:\n",
    "    pickle.dump({\n",
    "        'vectors': product_vectors,\n",
    "        'products': sample_products,\n",
    "        'vectorizer_config': {\n",
    "            'max_features': 512,\n",
    "            'ngram_range': (1, 2),\n",
    "            'stop_words': 'english'\n",
    "        },\n",
    "        'created_at': datetime.now().isoformat()\n",
    "    }, f)\n",
    "\n",
    "print(\"✅ Vectorizer and product vectors saved successfully!\")\n",
    "print(\"Files saved:\")\n",
    "print(\"- ../models/tfidf_vectorizer.pkl\")\n",
    "print(\"- ../models/product_vectors.pkl\")"
   ]
  },
  {
   "cell_type": "markdown",
   "metadata": {},
   "source": [
    "## 🎉 Summary\n",
    "\n",
    "This notebook successfully demonstrated:\n",
    "\n",
    "1. ✅ **Vector Database Setup**: Initialized Pinecone with local fallback\n",
    "2. ✅ **Product Vectorization**: Created TF-IDF vectors for product descriptions\n",
    "3. ✅ **Vector Storage**: Stored product vectors with metadata\n",
    "4. ✅ **Similarity Search**: Implemented and tested vector similarity search\n",
    "5. ✅ **Integration Testing**: Verified recommendation engine integration\n",
    "6. ✅ **Performance Analysis**: Measured query response times\n",
    "7. ✅ **Model Persistence**: Saved vectorizer and vectors for production use\n",
    "\n",
    "The vector database is now ready for production use with the e-commerce recommendation system!"
   ]
  }
 ],
 "metadata": {
  "kernelspec": {
   "display_name": "Python 3",
   "language": "python",
   "name": "python3"
  },
  "language_info": {
   "codemirror_mode": {
    "name": "ipython",
    "version": 3
   },
   "file_extension": ".py",
   "mimetype": "text/x-python",
   "name": "python",
   "nbconvert_exporter": "python",
   "pygments_lexer": "ipython3",
   "version": "3.8.0"
  }
 },
 "nbformat": 4,
 "nbformat_minor": 4
}
